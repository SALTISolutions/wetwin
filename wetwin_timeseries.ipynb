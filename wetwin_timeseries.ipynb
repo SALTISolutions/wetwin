{
 "cells": [
  {
   "attachments": {},
   "cell_type": "markdown",
   "metadata": {},
   "source": [
    "# Timeseries demo\n",
    "\n",
    "This notebook demonstrates the wetwin tools for a few time-series in csv files."
   ]
  },
  {
   "cell_type": "code",
   "execution_count": null,
   "metadata": {},
   "outputs": [],
   "source": [
    "# Import external packages\n",
    "\n",
    "# arrays\n",
    "import pandas as pd\n",
    "import numpy as np\n",
    "import datetime\n",
    "# plotting\n",
    "import matplotlib.pyplot as plt \n",
    "%matplotlib widget\n",
    "plt.rcParams['figure.figsize'] = [10, 3]\n",
    "# gui elements\n",
    "import ipywidgets as widgets\n",
    "import wetwin as wt"
   ]
  },
  {
   "cell_type": "code",
   "execution_count": null,
   "metadata": {},
   "outputs": [],
   "source": [
    "# load time-series from local file and plot\n",
    "def myparser(datetime_str):\n",
    "    return datetime.datetime.strptime(datetime_str, '%Y%m%d%H%M')\n",
    "\n",
    "locations = [\"vlissingen\",\"hoekvanholland\",\"denhelder\",\"harlingen\",\"delfzijl\"]\n",
    "series = {}\n",
    "# The data is stored in the folder \"data\" and there is a copy on the web. Both are accessible.\n",
    "#folder = \"data\"\n",
    "folder = \"https://nx7384.your-storageshare.de/apps/sharingpath/wetwin/public/timeseries\"\n",
    "for location in locations: # load data\n",
    "    df = pd.read_csv(f'{folder}/{location}.csv',sep='\\s+',header=11,parse_dates=[0],date_parser=myparser,names=[\"time\",\"sea_level\"])\n",
    "    series[location]={ \"times\" : df[\"time\"],\"values\" : df[\"sea_level\"] }"
   ]
  },
  {
   "cell_type": "code",
   "execution_count": null,
   "metadata": {},
   "outputs": [],
   "source": [
    "# A listbox to select the location\n",
    "v_loc=wt.ListVariable(\"station\",\"Station name\",locations)\n",
    "sel_loc=wt.WtListDropdown(v_loc)\n",
    "\n",
    "# A plot to show the time-series\n",
    "class MyPlot1(wt.wtPlot):\n",
    "    def __init__(self,variables,series,*args,**kwargs): # You can add your own arguments before *args\n",
    "        super().__init__(variables,*args,**kwargs)\n",
    "        self.series=series\n",
    "    def redraw(self):\n",
    "        ax=self.ax\n",
    "        location=self.variables[0].value_str\n",
    "        t = self.series[location][\"times\"]\n",
    "        y = self.series[location][\"values\"]\n",
    "        ax.plot(t,y, color='C0')\n",
    "        plt.title(f\"Sealevel at location {location}\")\n",
    "        ax.set_ylim([-3, 3])\n",
    "        ax.grid(True)\n",
    "\n",
    "# Create a plot\n",
    "p1=MyPlot1([v_loc],series) #create plot linked to variable v_loc (location)\n",
    "gui=widgets.VBox([sel_loc,p1]) #vertical stack of listbox and plot\n",
    "display(gui)\n",
    "p1.redraw() #draw initial plot"
   ]
  },
  {
   "cell_type": "code",
   "execution_count": null,
   "metadata": {},
   "outputs": [],
   "source": []
  }
 ],
 "metadata": {
  "kernelspec": {
   "display_name": "base",
   "language": "python",
   "name": "python3"
  },
  "language_info": {
   "codemirror_mode": {
    "name": "ipython",
    "version": 3
   },
   "file_extension": ".py",
   "mimetype": "text/x-python",
   "name": "python",
   "nbconvert_exporter": "python",
   "pygments_lexer": "ipython3",
   "version": "3.9.13"
  },
  "orig_nbformat": 4
 },
 "nbformat": 4,
 "nbformat_minor": 2
}
