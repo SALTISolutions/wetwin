{
 "cells": [
  {
   "attachments": {},
   "cell_type": "markdown",
   "metadata": {},
   "source": [
    "# Wetwin widgets\n",
    "\n",
    "Ipywidgets is a great package for adding controls (buttons, sliders, checkboxes, etc) to your Jupyter notebooks. But after experimenting for some time it became clear that it's easy to create a very messy code. A major difficulty are the numerous links between the graphical elements that contrasts to the desire to write reusable code. The default GUI elemenents in IPyWidgets are reusable, but they need call backs and update methods to function. It is possible to hardwire all this from the outside, but the number of links increases rapidly with the number of widgets on the screen.\n",
    "\n",
    "## Centralized variables\n",
    "\n",
    "By default, the variables represented eg by a slider are not linked to the other GUI elements. Below, we attempt an alternative approach where the widgets are linked by an object called a 'variable'. The aim is to use a 'variable' as a central point for connecting the gui elements. Multiple buttons, graphs, etc can be connected to the same variable and will be synchronized automatically. For example you can have two plots and one timeslider connected to the samevariable. When the slider is moved then both plots are updated. If you really need two separate time variables, then you can still create two variables and connect all gui elements to the relevant time.\n",
    "\n",
    "## IPyLeaflet\n",
    "\n",
    "IPyLeaflet is a python package for showing interactive maps in a jupyter notebook. We aim to extend the wetwin gui elements/widgets to IPyLeaflet in the near future.\n",
    "\n",
    "## Development\n",
    "\n",
    "A disadvantage of this approach is that ipywidget gui elements need to be wrapped. It is unrealistic to wrap all of them in one go, so we'll have to live with missing gui elements. However, we'll keep the wrappers very small and you'll probably be able to adapt an existing one to your needs.\n",
    "\n",
    "## Demo\n",
    "\n",
    "This notebook demonstrates the dynamic variables and show how you can link them to other gui elements."
   ]
  },
  {
   "cell_type": "code",
   "execution_count": 1,
   "metadata": {},
   "outputs": [],
   "source": [
    "# Import external packages\n",
    "\n",
    "# arrays\n",
    "import xarray as xr\n",
    "import numpy as np \n",
    "# plotting\n",
    "import matplotlib.pyplot as plt \n",
    "%matplotlib widget\n",
    "plt.rcParams['figure.figsize'] = [6, 4]\n",
    "# gui elements\n",
    "import ipywidgets as widgets\n",
    "#from ipyleaflet import *"
   ]
  },
  {
   "cell_type": "code",
   "execution_count": 2,
   "metadata": {},
   "outputs": [],
   "source": [
    "# Import wetwin_widgets\n",
    "import wetwin as wt\n"
   ]
  },
  {
   "cell_type": "code",
   "execution_count": 3,
   "metadata": {},
   "outputs": [
    {
     "data": {
      "text/plain": [
       "wetwin.wt_widgets.WtIntSlider"
      ]
     },
     "execution_count": 3,
     "metadata": {},
     "output_type": "execute_result"
    }
   ],
   "source": [
    "wt.WtIntSlider\n"
   ]
  },
  {
   "attachments": {},
   "cell_type": "markdown",
   "metadata": {},
   "source": [
    "## Demo of class Variable\n",
    "\n",
    "Several variable types have been wrapped in a class derived from Variable. These have a name, a label\n",
    "and you can attach an object that will be informed of changes to the variable, by a call like myobj.update(this_variable). Updating will typically be automatic, except when you develop your own widgets, or plots that do not derive from wetwin classes.\n",
    "\n",
    "At the moment the following variables are implemented:\n",
    "- IntVariable : contains a single number eg 4 in a range eg 2,...,12\n",
    "- ListVariable : points to a value in a list of things, eg \"apple\" in the list [\"apple\", \"orange\", \"banana\"]\n",
    "\n",
    "There is a short demo below."
   ]
  },
  {
   "cell_type": "code",
   "execution_count": 4,
   "metadata": {},
   "outputs": [
    {
     "name": "stdout",
     "output_type": "stream",
     "text": [
      "variable name=layer label=Vertical layer number\n",
      "\n",
      "current layer has value 1 of range 1:10\n",
      "\n",
      "set value of layer to 3\n",
      "\n",
      "change value\n",
      "\n",
      "current layer has value 3 of range 1:10\n",
      "\n",
      "the observer received value 3\n",
      "---------------------------------\n",
      "\n",
      "variable name=station label=Station name\n",
      "\n",
      "current station has value 0 which denotes Vlissingen \n",
      "\n",
      "set value of station to 1\n",
      "\n",
      "current station has value 1 which denotes Hoek van Holland \n",
      "\n",
      "set value of station to Platform K13\n",
      "\n",
      "current station has value 2 which denotes Platform K13 \n",
      "\n",
      "---------------------------------\n",
      "\n"
     ]
    }
   ],
   "source": [
    "\n",
    "# Create a variable with an integer in a range\n",
    "v1=wt.IntVariable(\"layer\",\"Vertical layer number\",1,10,1) # name, label, min, max, initial value\n",
    "# Use the variable\n",
    "print(f'variable name={v1.name} label={v1.label}\\n')\n",
    "print(f'current {v1.name} has value {v1.value} of range {v1.min}:{v1.max}\\n')\n",
    "\n",
    "# Create an action linked to a change to the variable\n",
    "#   This is the mechanism to link the variable to a plot or other widget, if you develop your own\n",
    "class DemoObserver:\n",
    "    def __init__(self):\n",
    "        self.current=None\n",
    "    def update(self,v):\n",
    "        self.current=v.value\n",
    "obs=DemoObserver()\n",
    "v1.observe(obs)\n",
    "v1.value=3 #change the value\n",
    "print(\"change value\\n\")\n",
    "print(f'current {v1.name} has value {v1.value} of range {v1.min}:{v1.max}\\n')\n",
    "print(f'the observer received value {obs.current}')\n",
    "\n",
    "print(\"---------------------------------\\n\")\n",
    "\n",
    "# a variable with a selection from a list\n",
    "v2=wt.ListVariable(\"station\",\"Station name\",[\"Vlissingen\",\"Hoek van Holland\",\"Platform K13\"])\n",
    "print(f'variable name={v2.name} label={v2.label}\\n')\n",
    "print(f'current {v2.name} has value {v2.value} which denotes {v2.value_str} \\n')\n",
    "\n",
    "v2.value=1\n",
    "print(f'current {v2.name} has value {v2.value} which denotes {v2.value_str} \\n')\n",
    "\n",
    "v2.value_str=\"Platform K13\"\n",
    "print(f'current {v2.name} has value {v2.value} which denotes {v2.value_str} \\n')\n",
    "\n",
    "print(\"---------------------------------\\n\")\n"
   ]
  },
  {
   "attachments": {},
   "cell_type": "markdown",
   "metadata": {},
   "source": [
    "## Integers\n",
    "\n",
    "Selection from a range of integers is eg usefull to select a layer to be plotted.\n",
    "\n",
    "Below is a small demo that connects two sliders and a label. Note that the two sliders are linked, because they refer to the same variable. Move one of the sliders and observe the effects."
   ]
  },
  {
   "cell_type": "code",
   "execution_count": 5,
   "metadata": {},
   "outputs": [
    {
     "data": {
      "application/vnd.jupyter.widget-view+json": {
       "model_id": "46f950f76c5b4ac49b3f70bd2fbf61f1",
       "version_major": 2,
       "version_minor": 0
      },
      "text/plain": [
       "WtIntSlider(value=1, continuous_update=False, description='Time-step', min=1)"
      ]
     },
     "metadata": {},
     "output_type": "display_data"
    },
    {
     "data": {
      "application/vnd.jupyter.widget-view+json": {
       "model_id": "8497b34c13a84211902a7f0650516306",
       "version_major": 2,
       "version_minor": 0
      },
      "text/plain": [
       "WtIntSlider(value=1, continuous_update=False, description='Time-step', min=1)"
      ]
     },
     "metadata": {},
     "output_type": "display_data"
    },
    {
     "data": {
      "application/vnd.jupyter.widget-view+json": {
       "model_id": "2a5040c1ec6f431e9a07dcb0756a1b38",
       "version_major": 2,
       "version_minor": 0
      },
      "text/plain": [
       "WtIntLabel(value='1', description='Time-step')"
      ]
     },
     "metadata": {},
     "output_type": "display_data"
    }
   ],
   "source": [
    "# Demo for Int slider and label.\n",
    "# The two widgets are both connected with the variable\n",
    "v2=wt.IntVariable(\"itime\",\"Time-step\",1,100,1)\n",
    "sld2a=wt.WtIntSlider(v2)\n",
    "sld2b=wt.WtIntSlider(v2)\n",
    "#We also add a label that is connected to the same variable\n",
    "lbl2=wt.WtIntLabel(v2)\n",
    "display(sld2a,sld2b,lbl2)"
   ]
  },
  {
   "attachments": {},
   "cell_type": "markdown",
   "metadata": {},
   "source": [
    "## A list of items\n",
    "\n",
    "A list of items can for example be usefull as a list of location names.\n",
    "\n",
    "Below is a small demo with a dropdown selection. This again uses two controls linked to the same list, to show that all widgets connected to the same variable are linked."
   ]
  },
  {
   "cell_type": "code",
   "execution_count": 6,
   "metadata": {},
   "outputs": [
    {
     "data": {
      "application/vnd.jupyter.widget-view+json": {
       "model_id": "3af962903f604f9884d572c53fba7d58",
       "version_major": 2,
       "version_minor": 0
      },
      "text/plain": [
       "WtListDropdown(description='Station name', options=('Vlissingen', 'Hoek van Holland', 'Platform K13'), value='…"
      ]
     },
     "metadata": {},
     "output_type": "display_data"
    },
    {
     "data": {
      "application/vnd.jupyter.widget-view+json": {
       "model_id": "ff18f0d1dc3144429a48ea17ef5f74ad",
       "version_major": 2,
       "version_minor": 0
      },
      "text/plain": [
       "WtListDropdown(description='Station name', options=('Vlissingen', 'Hoek van Holland', 'Platform K13'), value='…"
      ]
     },
     "metadata": {},
     "output_type": "display_data"
    },
    {
     "data": {
      "application/vnd.jupyter.widget-view+json": {
       "model_id": "4df783c2752f4f4a825226af6cfb3fef",
       "version_major": 2,
       "version_minor": 0
      },
      "text/plain": [
       "WtListLabel(value='Vlissingen', description='Station name')"
      ]
     },
     "metadata": {},
     "output_type": "display_data"
    }
   ],
   "source": [
    "v3=wt.ListVariable(\"station\",\"Station name\",[\"Vlissingen\",\"Hoek van Holland\",\"Platform K13\"])\n",
    "sld3a=wt.WtListDropdown(v3)\n",
    "sld3b=wt.WtListDropdown(v3)\n",
    "lbl3=wt.WtListLabel(v3)\n",
    "display(sld3a,sld3b,lbl3)"
   ]
  },
  {
   "cell_type": "code",
   "execution_count": 7,
   "metadata": {},
   "outputs": [
    {
     "name": "stdout",
     "output_type": "stream",
     "text": [
      "set value of station to 2\n",
      "\n",
      "dropdown receives signal from variable station. Value is Platform K13\n",
      "\n",
      "signal from dropdown\n",
      "set value of station to Platform K13\n",
      "\n",
      "dropdown receives signal from variable station. Value is Platform K13\n",
      "\n",
      "dropdown receives signal from variable station. Value is Platform K13\n",
      "\n",
      "signal from dropdown\n",
      "set value of station to Platform K13\n",
      "\n",
      "dropdown receives signal from variable station. Value is Platform K13\n",
      "\n",
      "dropdown receives signal from variable station. Value is Platform K13\n",
      "\n",
      "signal from variable station. Value is 2\n",
      "\n",
      "signal from variable station. Value is 2\n",
      "\n",
      "dropdown receives signal from variable station. Value is Platform K13\n",
      "\n",
      "signal from variable station. Value is 2\n",
      "\n"
     ]
    }
   ],
   "source": [
    "# You can also change a value manually. This will update all widgets connected to the same variable.\n",
    "# Note what happens to the widgets above, when you run this cell.\n",
    "v3.value=2 # Select the third item in the list, which is \"Platform K13\"\n",
    "\n",
    "#TODO there is quite some activity after only one change\n"
   ]
  },
  {
   "attachments": {},
   "cell_type": "markdown",
   "metadata": {},
   "source": [
    "## Plots\n",
    "\n",
    "wtPlot uses the ipywidgets.Output to create a link to the matplotlib plots. To use this class, you must extend it and implement the method redraw()."
   ]
  },
  {
   "cell_type": "code",
   "execution_count": 8,
   "metadata": {},
   "outputs": [
    {
     "data": {
      "application/vnd.jupyter.widget-view+json": {
       "model_id": "0fbed9b3b487455785e99bd4a556e902",
       "version_major": 2,
       "version_minor": 0
      },
      "text/plain": [
       "VBox(children=(WtIntSlider(value=1, continuous_update=False, description='# cycles', max=10, min=1), MyPlot1()…"
      ]
     },
     "metadata": {},
     "output_type": "display_data"
    },
    {
     "name": "stdout",
     "output_type": "stream",
     "text": [
      "redrawing plot\n"
     ]
    },
    {
     "data": {
      "application/vnd.jupyter.widget-view+json": {
       "model_id": "e12e236f57054c81958ef8aa66b6bbea",
       "version_major": 2,
       "version_minor": 0
      },
      "image/png": "[encoded data removed]",
      "text/html": [
       "\n",
       "            <div style=\"display: inline-block;\">\n",
       "                <div class=\"jupyter-widgets widget-label\" style=\"text-align: center;\">\n",
       "                    Figure\n",
       "                </div>\n",
       "                <img src='data:image/png;base64,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' width=600.0/>\n",
       "            </div>\n",
       "        "
      ],
      "text/plain": [
       "Canvas(header_visible=False, toolbar=Toolbar(toolitems=[('Home', 'Reset original view', 'home', 'home'), ('Bac…"
      ]
     },
     "metadata": {},
     "output_type": "display_data"
    },
    {
     "name": "stdout",
     "output_type": "stream",
     "text": [
      "signal from slider\n",
      "set value of iperiod to 3\n",
      "\n",
      "slider receives signal from variable iperiod. Value is 3\n",
      "\n",
      "redrawing plot\n",
      "signal from slider\n",
      "set value of iperiod to 2\n",
      "\n",
      "slider receives signal from variable iperiod. Value is 2\n",
      "\n",
      "redrawing plot\n",
      "signal from slider\n",
      "set value of iperiod to 3\n",
      "\n",
      "slider receives signal from variable iperiod. Value is 3\n",
      "\n",
      "redrawing plot\n",
      "signal from slider\n",
      "set value of iperiod to 4\n",
      "\n",
      "slider receives signal from variable iperiod. Value is 4\n",
      "\n",
      "redrawing plot\n",
      "signal from slider\n",
      "set value of iperiod to 5\n",
      "\n",
      "slider receives signal from variable iperiod. Value is 5\n",
      "\n",
      "redrawing plot\n",
      "signal from slider\n",
      "set value of iperiod to 3\n",
      "\n",
      "slider receives signal from variable iperiod. Value is 3\n",
      "\n",
      "redrawing plot\n",
      "signal from slider\n",
      "set value of iperiod to 2\n",
      "\n",
      "slider receives signal from variable iperiod. Value is 2\n",
      "\n",
      "redrawing plot\n"
     ]
    }
   ],
   "source": [
    "class MyPlot1(wt.wtPlot):\n",
    "    def __init__(self,variables,amplitude,*args,**kwargs): # You can add your own arguments before *args\n",
    "        super().__init__(variables,*args,**kwargs) #this is needed and will link to the variables\n",
    "        #expand here with your own data\n",
    "        self.amplitude=amplitude\n",
    "    def redraw(self):\n",
    "        ax=self.ax\n",
    "        period=self.variables[0].value\n",
    "        x = np.linspace(0, period * 2 * np.pi, 100)\n",
    "        ax.plot(x, self.amplitude * np.sin(x), color='C0')\n",
    "        plt.title(f\"Sine with period {period} cycles\")\n",
    "        ax.set_ylim([-2, 2])\n",
    "        ax.grid(True)\n",
    "\n",
    "int1=wt.IntVariable(\"iperiod\",\"# cycles\",1,10,1) #define variable\n",
    "amplitude=2.0\n",
    "int1sld=wt.WtIntSlider(int1) #create slider linked to variable int1\n",
    "p1=MyPlot1([int1],amplitude) #create plot linked to variable int1, too\n",
    "gui=widgets.VBox([int1sld,p1]) #vertical stack of slider and plot\n",
    "display(gui)\n",
    "p1.redraw()"
   ]
  },
  {
   "cell_type": "code",
   "execution_count": null,
   "metadata": {},
   "outputs": [],
   "source": []
  }
 ],
 "metadata": {
  "interpreter": {
   "hash": "52a89f5df91fad0984dd77466e275ad1bbd3f3c0a21d3287ac9d08473a9fd829"
  },
  "kernelspec": {
   "display_name": "Python 3.9.12 64-bit ('base': conda)",
   "name": "python3"
  },
  "language_info": {
   "codemirror_mode": {
    "name": "ipython",
    "version": 3
   },
   "file_extension": ".py",
   "mimetype": "text/x-python",
   "name": "python",
   "nbconvert_exporter": "python",
   "pygments_lexer": "ipython3",
   "version": "3.9.13"
  },
  "orig_nbformat": 4
 },
 "nbformat": 4,
 "nbformat_minor": 2
}
