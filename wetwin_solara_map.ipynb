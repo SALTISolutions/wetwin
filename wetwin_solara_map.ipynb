{
 "cells": [
  {
   "cell_type": "code",
   "execution_count": 1,
   "metadata": {},
   "outputs": [],
   "source": [
    "import leafmap\n",
    "import ipyleaflet\n",
    "import solara"
   ]
  },
  {
   "cell_type": "code",
   "execution_count": 7,
   "metadata": {},
   "outputs": [],
   "source": [
    "\n",
    "\n",
    "zoom = solara.reactive(3)\n",
    "center = solara.reactive((-36.0, 24.0))\n",
    "\n",
    "\n",
    "@solara.component\n",
    "def Map():\n",
    "    with solara.Column(): #style={\"min-width\": \"500px\", \"height\": \"500px\"}\n",
    "        # solara components support reactive variables\n",
    "        # using 3rd party widget library require wiring up the events manually\n",
    "        # using zoom.value and zoom.set\n",
    "        m=leafmap.Map.element(  # type: ignore\n",
    "            zoom=zoom.value,\n",
    "            on_zoom=zoom.set,\n",
    "            center=center.value,\n",
    "            on_center=center.set,\n",
    "            scroll_wheel_zoom=True,\n",
    "            draw_control=False,\n",
    "            measure_control=False,\n",
    "            fullscreen_control=False,\n",
    "            attribution_control=False,\n",
    "            #eight=\"400px\",\n",
    "            #width=\"600px\",\n",
    "            layers=[\n",
    "                ipyleaflet.basemap_to_tiles(ipyleaflet.basemaps.OpenStreetMap.Mapnik),\n",
    "                ipyleaflet.Marker.element(location=(-36.0, 24.0), draggable=True)\n",
    "                #, on_location=location_changed)\n",
    "            ]\n",
    "        )\n"
   ]
  },
  {
   "cell_type": "code",
   "execution_count": 8,
   "metadata": {},
   "outputs": [
    {
     "data": {
      "application/vnd.jupyter.widget-view+json": {
       "model_id": "c7073e81e8d94f3f89bb8657b5b24fa2",
       "version_major": 2,
       "version_minor": 0
      },
      "text/html": [
       "Cannot show widget. You probably want to rerun the code cell above (<i>Click in the code cell, and press Shift+Enter <kbd>⇧</kbd>+<kbd>↩</kbd></i>)."
      ],
      "text/plain": [
       "Cannot show ipywidgets in text"
      ]
     },
     "metadata": {},
     "output_type": "display_data"
    }
   ],
   "source": [
    "\n",
    "@solara.component\n",
    "def Page():\n",
    "    with solara.Columns([2, 2]):\n",
    "        #with solara.Card(title=None):\n",
    "        Map()\n",
    "        with solara.Column():\n",
    "            with solara.Card(title=\"Area of Interest\"):\n",
    "                #solara.Markdown(\"# Right\")\n",
    "                solara.Markdown(f\"Zoom: {zoom.value}\")\n",
    "                solara.Markdown(f\"Center: {center.value}\")\n",
    "            with solara.Card(title=\"Time selection\"):\n",
    "                solara.Markdown(\"*TODO*\")\n",
    "Page()"
   ]
  },
  {
   "cell_type": "code",
   "execution_count": 4,
   "metadata": {},
   "outputs": [
    {
     "data": {
      "text/plain": [
       "(3, (14.94, -23.99))"
      ]
     },
     "execution_count": 4,
     "metadata": {},
     "output_type": "execute_result"
    }
   ],
   "source": [
    "zoom.value, center.value"
   ]
  },
  {
   "cell_type": "code",
   "execution_count": null,
   "metadata": {},
   "outputs": [],
   "source": []
  }
 ],
 "metadata": {
  "kernelspec": {
   "display_name": "wetwin-venv",
   "language": "python",
   "name": "wetwin-venv"
  },
  "language_info": {
   "codemirror_mode": {
    "name": "ipython",
    "version": 3
   },
   "file_extension": ".py",
   "mimetype": "text/x-python",
   "name": "python",
   "nbconvert_exporter": "python",
   "pygments_lexer": "ipython3",
   "version": "3.10.11"
  },
  "orig_nbformat": 4
 },
 "nbformat": 4,
 "nbformat_minor": 2
}
