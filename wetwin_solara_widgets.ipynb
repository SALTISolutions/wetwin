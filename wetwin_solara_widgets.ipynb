{
 "cells": [
  {
   "attachments": {},
   "cell_type": "markdown",
   "metadata": {},
   "source": [
    "# Solara widgets\n",
    "\n",
    "This notebook shows some solara widgets. These are only the true Solara widgets, but you can also use widgets from a number of other packages, such as ipywidgets and ipyleaflet. More info at (https://solara.dev/api)"
   ]
  },
  {
   "cell_type": "code",
   "execution_count": null,
   "metadata": {},
   "outputs": [],
   "source": [
    "# widgets for solara\n",
    "import solara\n"
   ]
  },
  {
   "cell_type": "code",
   "execution_count": null,
   "metadata": {},
   "outputs": [],
   "source": [
    "# handle a number in a range with a slider\n",
    "slider_value = solara.reactive(0.5)\n",
    "slider_min = 0.0 # min\n",
    "slider_max = 1.0 # max\n",
    "slider_step = 0.01 # step size\n",
    "\n",
    "# Several widgets can be combined into a component, whic can be displayed in a page.\n",
    "@solara.component\n",
    "def Page1():\n",
    "    solara.SliderFloat(label=\"all or nothing\",value=slider_value,min=slider_min,max=slider_max,step=slider_step)\n",
    "    # also show value as text\n",
    "    solara.Text(f\"Value: {slider_value.value}\")\n",
    "\n",
    "# Within Jupyter, a component can be displayed using the following command. This is not needed when running the page in a web server.\n",
    "#Page1()\n",
    "# We will collect all pages in a list at the end of the notebook\n",
    "\n"
   ]
  },
  {
   "cell_type": "code",
   "execution_count": null,
   "metadata": {},
   "outputs": [],
   "source": [
    "# Second example: a dropdown menu\n",
    "select_value = solara.reactive(\"red\")\n",
    "select_options = [\"red\",\"green\",\"blue\"]\n",
    "\n",
    "@solara.component\n",
    "def Page2():\n",
    "    solara.Select(label=\"select color\",value=select_value,values=select_options)\n",
    "    solara.Text(f\"Value: {select_value.value}\")\n",
    "\n",
    "#Page2()"
   ]
  },
  {
   "cell_type": "code",
   "execution_count": null,
   "metadata": {},
   "outputs": [],
   "source": [
    "# Input text\n",
    "text_value = solara.reactive(\"\")\n",
    "\n",
    "@solara.component\n",
    "def Page3():\n",
    "    solara.InputText(label=\"Enter text\",value=text_value, continuous_update=True)\n",
    "    # With continuous_update=False, the value is only updated when the user presses enter\n",
    "    solara.Text(f\"Value: {text_value.value}\")\n",
    "    solara.Markdown(f\"Value: {text_value.value}\")\n",
    "\n",
    "#Page3()"
   ]
  },
  {
   "cell_type": "code",
   "execution_count": null,
   "metadata": {},
   "outputs": [],
   "source": [
    "# Collect the components into a page\n",
    "\n",
    "@solara.component\n",
    "def Page():\n",
    "    Page1()\n",
    "    Page2()\n",
    "    Page3()\n",
    "\n",
    "Page()"
   ]
  },
  {
   "cell_type": "code",
   "execution_count": null,
   "metadata": {},
   "outputs": [],
   "source": [
    "# You can reach the reactive values using the .value attribute at any time. This is useful for debugging or in your own code.\n",
    "print(slider_value.value)"
   ]
  },
  {
   "cell_type": "code",
   "execution_count": null,
   "metadata": {},
   "outputs": [],
   "source": [
    "# time slider\n",
    "\n",
    "# create vector of times\n",
    "import datetime\n",
    "# settings for this example\n",
    "tstart = datetime.datetime(2020,1,1)\n",
    "tstop = datetime.datetime(2021,1,1)\n",
    "tstep = datetime.timedelta(hours=1)\n",
    "skip_steps = 24\n",
    "time_label = \"time\"\n",
    "\n",
    "# create reactive value\n",
    "time_value = solara.reactive(0) # use the index of the imaginary time vector\n",
    "\n",
    "def index2time(index,tstart,tstep):\n",
    "    return tstart+index*tstep\n",
    "\n",
    "# have a look at the slider\n",
    "@solara.component\n",
    "def SliderDateTime(label=\"\",value=None,tstart=None,tstop=None,tstep=None,skip_steps=3,continuous_update=False):\n",
    "    if value is None:\n",
    "        error(\"Value must be specified for SliderDateTime\")\n",
    "    if tstart is None:\n",
    "        error(\"tstart must be specified for SliderDateTime\")\n",
    "    if tstop is None:\n",
    "        error(\"tstop must be specified for SliderDateTime\")\n",
    "    if tstep is None:\n",
    "        error(\"tstep must be specified for SliderDateTime\")\n",
    "    ntimes = int((tstop-tstart)/tstep)\n",
    "    with solara.Row(gap=\"10px\", justify=\"space-around\"):\n",
    "        solara.Text(f\"{time_label} {index2time(value.value,tstart,tstep)}\")\n",
    "        solara.Button(\"<<\",on_click=lambda: value.set(value.value-skip_steps))\n",
    "        solara.Button(\"<\",on_click=lambda: value.set(value.value-1))\n",
    "        solara.Button(\">\",on_click=lambda: value.set(value.value+1))\n",
    "        solara.Button(\">>\",on_click=lambda: value.set(value.value+skip_steps))\n",
    "        solara.SliderInt(label=\"\",value=value,min=0,max=ntimes-1,step=1)\n",
    "\n",
    "@solara.component\n",
    "def PageSliderDateTime():\n",
    "    SliderDateTime(label=time_label,value=time_value,tstart=tstart,tstop=tstop,tstep=tstep,skip_steps=skip_steps,continuous_update=True)\n",
    "\n",
    "PageSliderDateTime()"
   ]
  },
  {
   "cell_type": "code",
   "execution_count": null,
   "metadata": {},
   "outputs": [],
   "source": []
  }
 ],
 "metadata": {
  "kernelspec": {
   "display_name": "wetwin-venv",
   "language": "python",
   "name": "wetwin-venv"
  },
  "language_info": {
   "codemirror_mode": {
    "name": "ipython",
    "version": 3
   },
   "file_extension": ".py",
   "mimetype": "text/x-python",
   "name": "python",
   "nbconvert_exporter": "python",
   "pygments_lexer": "ipython3",
   "version": "3.11.5"
  },
  "orig_nbformat": 4
 },
 "nbformat": 4,
 "nbformat_minor": 2
}
