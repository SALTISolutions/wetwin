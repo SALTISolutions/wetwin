{
 "cells": [
  {
   "attachments": {},
   "cell_type": "markdown",
   "metadata": {},
   "source": [
    "# Solara widgets\n",
    "\n",
    "This notebook shows some solara widgets. These are only the true Solara widgets, but you can also use widgets from a number of other packages, such as ipywidgets and ipyleaflet. More info at (https://solara.dev/api)"
   ]
  },
  {
   "cell_type": "code",
   "execution_count": 1,
   "metadata": {},
   "outputs": [],
   "source": [
    "# widgets for solara\n",
    "import solara\n"
   ]
  },
  {
   "cell_type": "code",
   "execution_count": 2,
   "metadata": {},
   "outputs": [],
   "source": [
    "# handle a number in a range with a slider\n",
    "slider_value = solara.reactive(0.5)\n",
    "slider_min = 0.0 # min\n",
    "slider_max = 1.0 # max\n",
    "slider_step = 0.01 # step size\n",
    "\n",
    "# Several widgets can be combined into a component, whic can be displayed in a page.\n",
    "@solara.component\n",
    "def Page1():\n",
    "    solara.SliderFloat(label=\"all or nothing\",value=slider_value,min=slider_min,max=slider_max,step=slider_step)\n",
    "    # also show value as text\n",
    "    solara.Text(f\"Value: {slider_value.value}\")\n",
    "\n",
    "# Within Jupyter, a component can be displayed using the following command. This is not needed when running the page in a web server.\n",
    "#Page1()\n",
    "# We will collect all pages in a list at the end of the notebook\n",
    "\n"
   ]
  },
  {
   "cell_type": "code",
   "execution_count": 3,
   "metadata": {},
   "outputs": [],
   "source": [
    "# Second example: a dropdown menu\n",
    "select_value = solara.reactive(\"red\")\n",
    "select_options = [\"red\",\"green\",\"blue\"]\n",
    "\n",
    "@solara.component\n",
    "def Page2():\n",
    "    solara.Select(label=\"select color\",value=select_value,values=select_options)\n",
    "    solara.Text(f\"Value: {select_value.value}\")\n",
    "\n",
    "#Page2()"
   ]
  },
  {
   "cell_type": "code",
   "execution_count": 4,
   "metadata": {},
   "outputs": [],
   "source": [
    "# Input text\n",
    "text_value = solara.reactive(\"\")\n",
    "\n",
    "@solara.component\n",
    "def Page3():\n",
    "    solara.InputText(label=\"Enter text\",value=text_value, continuous_update=True)\n",
    "    # With continuous_update=False, the value is only updated when the user presses enter\n",
    "    solara.Text(f\"Value: {text_value.value}\")\n",
    "    solara.Markdown(f\"Value: {text_value.value}\")\n",
    "\n",
    "#Page3()"
   ]
  },
  {
   "cell_type": "code",
   "execution_count": 5,
   "metadata": {},
   "outputs": [
    {
     "data": {
      "application/vnd.jupyter.widget-view+json": {
       "model_id": "fabc668cf2d34d72b166f34a0a0b139a",
       "version_major": 2,
       "version_minor": 0
      },
      "text/html": [
       "Cannot show widget. You probably want to rerun the code cell above (<i>Click in the code cell, and press Shift+Enter <kbd>⇧</kbd>+<kbd>↩</kbd></i>)."
      ],
      "text/plain": [
       "Cannot show ipywidgets in text"
      ]
     },
     "metadata": {},
     "output_type": "display_data"
    }
   ],
   "source": [
    "# Collect the components into a page\n",
    "\n",
    "@solara.component\n",
    "def Page():\n",
    "    Page1()\n",
    "    Page2()\n",
    "    Page3()\n",
    "\n",
    "Page()"
   ]
  },
  {
   "cell_type": "code",
   "execution_count": 6,
   "metadata": {},
   "outputs": [
    {
     "name": "stdout",
     "output_type": "stream",
     "text": [
      "0.22\n"
     ]
    }
   ],
   "source": [
    "# You can reach the reactive values using the .value attribute at any time. This is useful for debugging or in your own code.\n",
    "print(slider_value.value)"
   ]
  },
  {
   "cell_type": "code",
   "execution_count": null,
   "metadata": {},
   "outputs": [],
   "source": []
  }
 ],
 "metadata": {
  "kernelspec": {
   "display_name": "wetwin-venv",
   "language": "python",
   "name": "wetwin-venv"
  },
  "language_info": {
   "codemirror_mode": {
    "name": "ipython",
    "version": 3
   },
   "file_extension": ".py",
   "mimetype": "text/x-python",
   "name": "python",
   "nbconvert_exporter": "python",
   "pygments_lexer": "ipython3",
   "version": "3.10.11"
  },
  "orig_nbformat": 4
 },
 "nbformat": 4,
 "nbformat_minor": 2
}
