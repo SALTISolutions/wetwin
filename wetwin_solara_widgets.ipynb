{
 "cells": [
  {
   "cell_type": "code",
   "execution_count": 1,
   "metadata": {},
   "outputs": [],
   "source": [
    "# widgets for solara\n",
    "import solara\n",
    "import ipywidgets as widgets\n",
    "import ipyleaflet as leaflet\n",
    "import matplotlib.pyplot as plt\n",
    "\n",
    "# handling data\n",
    "import pandas as pd\n",
    "import numpy as np\n",
    "import datetime as dt\n",
    "import xarray as xr"
   ]
  },
  {
   "cell_type": "code",
   "execution_count": 4,
   "metadata": {},
   "outputs": [
    {
     "data": {
      "application/vnd.jupyter.widget-view+json": {
       "model_id": "1b20e280e7944402a7758a731f4ff67b",
       "version_major": 2,
       "version_minor": 0
      },
      "text/html": [
       "Cannot show widget. You probably want to rerun the code cell above (<i>Click in the code cell, and press Shift+Enter <kbd>⇧</kbd>+<kbd>↩</kbd></i>)."
      ],
      "text/plain": [
       "Cannot show ipywidgets in text"
      ]
     },
     "metadata": {},
     "output_type": "display_data"
    }
   ],
   "source": [
    "# handle a number in a range with a slider\n",
    "slider_value = solara.reactive(0.5)\n",
    "slider_min = 0.0 # min\n",
    "slider_max = 1.0 # max\n",
    "slider_step = 0.01 # step size\n",
    "\n",
    "# A set of components can be grouped into a page\n",
    "@solara.component\n",
    "def Page():\n",
    "    solara.SliderFloat(label=\"all or nothing\",value=slider_value,min=slider_min,max=slider_max,step=slider_step)\n",
    "    # also show value as text\n",
    "    solara.Text(f\"Value: {slider_value.value}\")\n",
    "\n",
    "# Within Jupyter, the page can be displayed using the following command. This is not needed when running the page in a web server.\n",
    "Page()\n",
    "\n"
   ]
  },
  {
   "cell_type": "code",
   "execution_count": null,
   "metadata": {},
   "outputs": [],
   "source": []
  }
 ],
 "metadata": {
  "kernelspec": {
   "display_name": "wetwin-venv",
   "language": "python",
   "name": "wetwin-venv"
  },
  "language_info": {
   "codemirror_mode": {
    "name": "ipython",
    "version": 3
   },
   "file_extension": ".py",
   "mimetype": "text/x-python",
   "name": "python",
   "nbconvert_exporter": "python",
   "pygments_lexer": "ipython3",
   "version": "3.10.11"
  },
  "orig_nbformat": 4
 },
 "nbformat": 4,
 "nbformat_minor": 2
}
