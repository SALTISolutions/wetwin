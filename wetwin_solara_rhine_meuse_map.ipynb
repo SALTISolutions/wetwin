{
 "cells": [
  {
   "cell_type": "code",
   "execution_count": 1,
   "metadata": {},
   "outputs": [],
   "source": [
    "# Load reuqired packages\n",
    "import wetwin\n",
    "import solara\n",
    "import ipywidgets as widgets\n",
    "from datetime import *\n",
    "import pandas as pd\n",
    "import numpy as np\n",
    "import zarr\n",
    "import xarray as xr\n",
    "import matplotlib.pyplot as plt\n",
    "from matplotlib.figure import Figure\n",
    "%matplotlib inline\n",
    "plt.rcParams['figure.figsize'] = [15, 8]"
   ]
  },
  {
   "cell_type": "code",
   "execution_count": 2,
   "metadata": {},
   "outputs": [
    {
     "data": {
      "text/plain": [
       "Frozen({'time': 361, 'z': 45, 'y': 499, 'x': 999, 'mesh2d_nLayers': 45})"
      ]
     },
     "execution_count": 2,
     "metadata": {},
     "output_type": "execute_result"
    }
   ],
   "source": [
    "# Open online dataset of the Rhine-Meuse delta\n",
    "map_url=\"https://nx7384.your-storageshare.de/apps/sharingpath/wetwin/public/zunormm_dischargeScenario/ZUNO_highQ_map_3d.zarr\"\n",
    "map=xr.open_zarr(map_url,consolidated=True)\n",
    "#map\n",
    "map.dims"
   ]
  },
  {
   "cell_type": "code",
   "execution_count": 3,
   "metadata": {},
   "outputs": [
    {
     "data": {
      "application/vnd.jupyter.widget-view+json": {
       "model_id": "d450ddb0c7c74a4b9a351a0894ac8fc3",
       "version_major": 2,
       "version_minor": 0
      },
      "text/html": [
       "Cannot show widget. You probably want to rerun the code cell above (<i>Click in the code cell, and press Shift+Enter <kbd>⇧</kbd>+<kbd>↩</kbd></i>)."
      ],
      "text/plain": [
       "Cannot show ipywidgets in text"
      ]
     },
     "metadata": {},
     "output_type": "display_data"
    }
   ],
   "source": [
    "layer = solara.reactive(44)\n",
    "\n",
    "def MapPlot(itime,ilayer):\n",
    "    x=map.x_center[:]\n",
    "    y=map.y_center[:]\n",
    "    z=map.z_center[:]\n",
    "    sal_slice=map.salinity[itime,ilayer,:,:]\n",
    "    t0,dt,ntimes=wetwin.dataset_get_python_times(map)\n",
    "    fig = Figure() #This is a matplotlib figure, and not a matplotlib.pyplot figure\n",
    "    ax = fig.subplots()\n",
    "    ax.pcolormesh(x,y,sal_slice)\n",
    "    #fig.colorbar()\n",
    "    ax.set_title('Salinity at t='+str(t0+dt*itime))\n",
    "    return fig\n",
    "\n",
    "@solara.component\n",
    "def Page():\n",
    "    itime=22\n",
    "    with solara.Column(style={\"min-width\": \"500px\"}):\n",
    "        solara.SliderInt(label=\"Layer\",value=layer, min=0, max=44)\n",
    "        #solara.Select(label=\"Location\", value=location, values=locations)\n",
    "        solara.FigureMatplotlib(MapPlot(itime,layer.value))\n",
    "        #solara.Text(f\"Center: {center.value}\")\n",
    "\n",
    "# The following line is required only when running the code in a Jupyter notebook:\n",
    "Page()"
   ]
  },
  {
   "cell_type": "code",
   "execution_count": null,
   "metadata": {},
   "outputs": [],
   "source": []
  }
 ],
 "metadata": {
  "kernelspec": {
   "display_name": "wetwin-venv",
   "language": "python",
   "name": "wetwin-venv"
  },
  "language_info": {
   "codemirror_mode": {
    "name": "ipython",
    "version": 3
   },
   "file_extension": ".py",
   "mimetype": "text/x-python",
   "name": "python",
   "nbconvert_exporter": "python",
   "pygments_lexer": "ipython3",
   "version": "3.11.5"
  }
 },
 "nbformat": 4,
 "nbformat_minor": 2
}
