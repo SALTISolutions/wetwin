{
 "cells": [
  {
   "cell_type": "code",
   "execution_count": null,
   "metadata": {},
   "outputs": [],
   "source": [
    "# Load reuqired packages\n",
    "import wetwin\n",
    "import solara\n",
    "import ipywidgets as widgets\n",
    "from datetime import *\n",
    "import pandas as pd\n",
    "import numpy as np\n",
    "import zarr\n",
    "import xarray as xr\n",
    "import matplotlib.pyplot as plt\n",
    "from matplotlib.figure import Figure\n",
    "#plt.rcParams['figure.figsize'] = [15, 8]"
   ]
  },
  {
   "cell_type": "code",
   "execution_count": null,
   "metadata": {},
   "outputs": [],
   "source": [
    "# Open online dataset of the Rhine-Meuse delta\n",
    "map_url=\"https://nx7384.your-storageshare.de/apps/sharingpath/wetwin/public/zunormm_dischargeScenario/ZUNO_highQ_map_3d.zarr\"\n",
    "map=xr.open_zarr(map_url,consolidated=True)\n",
    "#map\n",
    "map.dims"
   ]
  },
  {
   "cell_type": "code",
   "execution_count": null,
   "metadata": {},
   "outputs": [],
   "source": [
    "layer = solara.reactive(44)\n",
    "time = solara.reactive(22)\n",
    "\n",
    "@solara.component\n",
    "def MapPlot(map):\n",
    "    ilayer=layer.value #current layer\n",
    "    itime=time.value #current time\n",
    "    # Get data for current plot\n",
    "    x=map.x_center[:]\n",
    "    y=map.y_center[:]\n",
    "    sal_slice=map.salinity.isel(time=itime,z=ilayer,drop=True)\n",
    "    sal_data=sal_slice.values\n",
    "    t0,dt,ntimes=wetwin.dataset_get_python_times(map)\n",
    "    # Plot data\n",
    "    fig = Figure() #This is a matplotlib figure, and not a matplotlib.pyplot figure\n",
    "    ax = fig.subplots()\n",
    "    print(f'Plotting salinity at t={t0+dt*itime} layerl={ilayer}')\n",
    "    ax.pcolormesh(x,y,sal_data)\n",
    "    print('After pcolormesh')\n",
    "    #fig.colorbar()\n",
    "    ax.set_title(f'Salinity at t={t0+dt*itime} layer={ilayer}')\n",
    "    return solara.FigureMatplotlib(fig)\n",
    "\n",
    "@solara.component\n",
    "def Page():\n",
    "    t0,dt,ntimes=wetwin.dataset_get_python_times(map)\n",
    "    with solara.Column(style={\"min-width\": \"500px\"}) as main:\n",
    "        wetwin.SliderDateTime(label=\"\",value=time,tstart=t0,ntimes=ntimes,tstep=dt,skip_steps=6)\n",
    "        solara.SliderInt(label=\"Layer\",value=layer, min=0, max=44)\n",
    "        #solara.Select(label=\"Location\", value=location, values=locations)\n",
    "        print('Before MapPlot')\n",
    "        MapPlot(map)\n",
    "        print('After MapPlot')\n",
    "        solara.Text(f\"Layer: {layer.value} \")\n",
    "    print('After main')\n",
    "    return main\n",
    "\n",
    "# The following line is required only when running the code in a Jupyter notebook:\n",
    "Page()"
   ]
  },
  {
   "cell_type": "code",
   "execution_count": null,
   "metadata": {},
   "outputs": [],
   "source": [
    "fig=MapPlot(22,44)\n",
    "plt.show(fig)"
   ]
  },
  {
   "cell_type": "code",
   "execution_count": null,
   "metadata": {},
   "outputs": [],
   "source": []
  },
  {
   "cell_type": "code",
   "execution_count": null,
   "metadata": {},
   "outputs": [],
   "source": []
  }
 ],
 "metadata": {
  "kernelspec": {
   "display_name": "wetwin-venv",
   "language": "python",
   "name": "wetwin-venv"
  },
  "language_info": {
   "codemirror_mode": {
    "name": "ipython",
    "version": 3
   },
   "file_extension": ".py",
   "mimetype": "text/x-python",
   "name": "python",
   "nbconvert_exporter": "python",
   "pygments_lexer": "ipython3",
   "version": "3.11.5"
  }
 },
 "nbformat": 4,
 "nbformat_minor": 2
}
