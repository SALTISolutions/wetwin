{
 "cells": [
  {
   "cell_type": "markdown",
   "metadata": {},
   "source": []
  },
  {
   "cell_type": "markdown",
   "metadata": {},
   "source": [
    "# GUI design tests\n",
    "\n",
    "After adding a few buttons, it became clear that it's easy to write messy code for a GUI. A major difficulty are the numerous links between the graphical elements that contrasts to the desire to write reusable code. The default GUI elemenents in IPyWidgets are reusable, but they need call backs and update methods to function. It is possible o hardwire all this from the outside, but the number of links increases rapidly with the number of widgets on the screen.\n",
    "\n",
    "## Centralized variables\n",
    "\n",
    "By default, the variables represented eg by a slider are not linked to the other GUI elements. Below, we attempt an alternative approach where the widgets are linked by an object called a variable. The aim is to connect by default all elements called time for example. If a display needs two time variables, then these can be given different names."
   ]
  },
  {
   "cell_type": "code",
   "execution_count": 1,
   "metadata": {},
   "outputs": [],
   "source": [
    "# Imports\n",
    "\n",
    "# arrays\n",
    "import xarray as xr\n",
    "import numpy as np \n",
    "import zarr\n",
    "# plotting\n",
    "import matplotlib.pyplot as plt \n",
    "%matplotlib widget\n",
    "plt.rcParams['figure.figsize'] = [10, 5]\n",
    "# gui elements\n",
    "import ipywidgets as widgets\n",
    "#from ipyleaflet import *"
   ]
  },
  {
   "cell_type": "code",
   "execution_count": 2,
   "metadata": {},
   "outputs": [],
   "source": [
    "from wtcore.variables import *\n",
    "from wtcore.widgets import *\n",
    "from wtcore.plots import *"
   ]
  },
  {
   "cell_type": "markdown",
   "metadata": {},
   "source": [
    "## Demo of class Variable\n",
    "\n",
    "Several variable types have been wrapped in a class derived from Variable. These have a name, a label\n",
    "and you can attch an object that will be informed of changes to the variable, by a call like myobj.update(this_variable). \n",
    "There is a short demo below."
   ]
  },
  {
   "cell_type": "code",
   "execution_count": 3,
   "metadata": {},
   "outputs": [
    {
     "name": "stdout",
     "output_type": "stream",
     "text": [
      "variable name=layer label=Vertical layer number\n",
      "\n",
      "current layer has value 1 of range 1:10\n",
      "\n",
      "set value of layer to 3\n",
      "\n",
      "change value\n",
      "\n",
      "current layer has value 3 of range 1:10\n",
      "\n",
      "the observer received value 3\n",
      "---------------------------------\n",
      "\n",
      "variable name=station label=Station name\n",
      "\n",
      "current station has value 0 which denotes Vlissingen \n",
      "\n",
      "set value of station to 1\n",
      "\n",
      "current station has value 1 which denotes Hoek van Holland \n",
      "\n",
      "set value of station to Platform K13\n",
      "\n",
      "current station has value 2 which denotes Platform K13 \n",
      "\n",
      "---------------------------------\n",
      "\n"
     ]
    }
   ],
   "source": [
    "\n",
    "# A variable with an integer in a range\n",
    "v1=IntVariable(\"layer\",\"Vertical layer number\",1,10,1)\n",
    "print(f'variable name={v1.name} label={v1.label}\\n')\n",
    "print(f'current {v1.name} has value {v1.value} of range {v1.min}:{v1.max}\\n')\n",
    "\n",
    "# A cange to the variable\n",
    "class DemoObserver:\n",
    "    def __init__(self):\n",
    "        self.current=None\n",
    "    def update(self,v):\n",
    "        self.current=v.value\n",
    "obs=DemoObserver()\n",
    "v1.observe(obs)\n",
    "v1.value=3 #change the value\n",
    "print(\"change value\\n\")\n",
    "print(f'current {v1.name} has value {v1.value} of range {v1.min}:{v1.max}\\n')\n",
    "print(f'the observer received value {obs.current}')\n",
    "\n",
    "print(\"---------------------------------\\n\")\n",
    "\n",
    "# a variable with a selection from a list\n",
    "v2=ListVariable(\"station\",\"Station name\",[\"Vlissingen\",\"Hoek van Holland\",\"Platform K13\"])\n",
    "print(f'variable name={v2.name} label={v2.label}\\n')\n",
    "print(f'current {v2.name} has value {v2.value} which denotes {v2.value_str} \\n')\n",
    "\n",
    "v2.value=1\n",
    "print(f'current {v2.name} has value {v2.value} which denotes {v2.value_str} \\n')\n",
    "\n",
    "v2.value_str=\"Platform K13\"\n",
    "print(f'current {v2.name} has value {v2.value} which denotes {v2.value_str} \\n')\n",
    "\n",
    "print(\"---------------------------------\\n\")\n"
   ]
  },
  {
   "cell_type": "markdown",
   "metadata": {},
   "source": [
    "## Integers\n",
    "\n",
    "Selection from a range of integers is eg usefull to select a layer to be plotted.\n",
    "\n",
    "Below is a small demo that connects two sliders and a label."
   ]
  },
  {
   "cell_type": "code",
   "execution_count": 4,
   "metadata": {},
   "outputs": [
    {
     "data": {
      "application/vnd.jupyter.widget-view+json": {
       "model_id": "510ef72f9a174ed39b6d7ec45af2d299",
       "version_major": 2,
       "version_minor": 0
      },
      "text/plain": [
       "WtIntSlider(value=1, continuous_update=False, description='Time-step', min=1)"
      ]
     },
     "metadata": {},
     "output_type": "display_data"
    },
    {
     "data": {
      "application/vnd.jupyter.widget-view+json": {
       "model_id": "67563a0c82664813affb79b968358793",
       "version_major": 2,
       "version_minor": 0
      },
      "text/plain": [
       "WtIntSlider(value=1, continuous_update=False, description='Time-step', min=1)"
      ]
     },
     "metadata": {},
     "output_type": "display_data"
    },
    {
     "data": {
      "application/vnd.jupyter.widget-view+json": {
       "model_id": "9dd896991f92441a828c4c4a6935cb3e",
       "version_major": 2,
       "version_minor": 0
      },
      "text/plain": [
       "WtIntLabel(value='1', description='Time-step')"
      ]
     },
     "metadata": {},
     "output_type": "display_data"
    }
   ],
   "source": [
    "# Demo for Int slider and label.\n",
    "# The widgets are connected with the variable\n",
    "v2=IntVariable(\"itime\",\"Time-step\",1,100,1)\n",
    "sld2a=WtIntSlider(v2)\n",
    "sld2b=WtIntSlider(v2)\n",
    "lbl2=WtIntLabel(v2)\n",
    "display(sld2a,sld2b,lbl2)"
   ]
  },
  {
   "cell_type": "markdown",
   "metadata": {},
   "source": [
    "## A list of items\n",
    "\n",
    "A list of items can for example be usefull as a list of location names.\n",
    "\n",
    "Below is a small demo with a dropdown selection"
   ]
  },
  {
   "cell_type": "code",
   "execution_count": 5,
   "metadata": {},
   "outputs": [
    {
     "data": {
      "application/vnd.jupyter.widget-view+json": {
       "model_id": "fc39d086cf2d431eac8e6b6c6875a027",
       "version_major": 2,
       "version_minor": 0
      },
      "text/plain": [
       "WtListDropdown(description='Station name', options=('Vlissingen', 'Hoek van Holland', 'Platform K13'), value='…"
      ]
     },
     "metadata": {},
     "output_type": "display_data"
    },
    {
     "data": {
      "application/vnd.jupyter.widget-view+json": {
       "model_id": "4cd17341a58346718fdf52c407fa0f04",
       "version_major": 2,
       "version_minor": 0
      },
      "text/plain": [
       "WtListDropdown(description='Station name', options=('Vlissingen', 'Hoek van Holland', 'Platform K13'), value='…"
      ]
     },
     "metadata": {},
     "output_type": "display_data"
    },
    {
     "data": {
      "application/vnd.jupyter.widget-view+json": {
       "model_id": "fc6d4889c59d4e5488297e2b1d382cd7",
       "version_major": 2,
       "version_minor": 0
      },
      "text/plain": [
       "WtListLabel(value='Vlissingen', description='Station name')"
      ]
     },
     "metadata": {},
     "output_type": "display_data"
    }
   ],
   "source": [
    "v3=ListVariable(\"station\",\"Station name\",[\"Vlissingen\",\"Hoek van Holland\",\"Platform K13\"])\n",
    "sld3a=WtListDropdown(v3)\n",
    "sld3b=WtListDropdown(v3)\n",
    "lbl3=WtListLabel(v3)\n",
    "display(sld3a,sld3b,lbl3)"
   ]
  },
  {
   "cell_type": "code",
   "execution_count": null,
   "metadata": {},
   "outputs": [],
   "source": [
    "#TODO there is quite some activity after only one change\n",
    "v3.value=2"
   ]
  },
  {
   "cell_type": "markdown",
   "metadata": {},
   "source": [
    "## Plots\n",
    "\n",
    "wtPlot uses the ipywidgets.Output to create a link to the matplotlib plots. To use this class, you must extend it and implement the method redraw()."
   ]
  },
  {
   "cell_type": "code",
   "execution_count": 7,
   "metadata": {},
   "outputs": [
    {
     "data": {
      "application/vnd.jupyter.widget-view+json": {
       "model_id": "4ba6e63d4359490ab5cec986b6417217",
       "version_major": 2,
       "version_minor": 0
      },
      "text/plain": [
       "VBox(children=(WtIntSlider(value=1, continuous_update=False, description='# cycles', max=10, min=1), MyPlot1()…"
      ]
     },
     "metadata": {},
     "output_type": "display_data"
    },
    {
     "data": {
      "application/vnd.jupyter.widget-view+json": {
       "model_id": "20390b7dfee7478f86591b769d1528fd",
       "version_major": 2,
       "version_minor": 0
      },
      "image/png": "[encoded data removed]",
      "text/html": [
       "\n",
       "            <div style=\"display: inline-block;\">\n",
       "                <div class=\"jupyter-widgets widget-label\" style=\"text-align: center;\">\n",
       "                    Figure\n",
       "                </div>\n",
       "                <img src='data:image/png;base64,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' width=1000.0/>\n",
       "            </div>\n",
       "        "
      ],
      "text/plain": [
       "Canvas(toolbar=Toolbar(toolitems=[('Home', 'Reset original view', 'home', 'home'), ('Back', 'Back to previous …"
      ]
     },
     "metadata": {},
     "output_type": "display_data"
    }
   ],
   "source": [
    "class MyPlot1(wtPlot):\n",
    "    def __init__(self,variables,*args,**kwargs):\n",
    "        super().__init__(variables,*args,**kwargs)\n",
    "        #expand here with your own data\n",
    "    def redraw(self):\n",
    "        ax=self.ax\n",
    "        period=self.variables[0].value\n",
    "        x = np.linspace(0, period * 2 * np.pi, 100)\n",
    "        ax.plot(x, np.sin(x), color='C0')\n",
    "        plt.title(\"Sine with changing period\")\n",
    "        ax.set_ylim([-4, 4])\n",
    "        ax.grid(True)\n",
    "\n",
    "int1=IntVariable(\"iperiod\",\"# cycles\",1,10,1) #define variable\n",
    "int1sld=WtIntSlider(int1) #create slider linked to variable int1\n",
    "p1=MyPlot1([int1]) #create plot linked to variable int1, too\n",
    "gui=widgets.VBox([int1sld,p1]) #vertical stack of slider and plot\n",
    "display(gui)\n",
    "p1.redraw()"
   ]
  },
  {
   "cell_type": "code",
   "execution_count": null,
   "metadata": {},
   "outputs": [],
   "source": []
  }
 ],
 "metadata": {
  "interpreter": {
   "hash": "52a89f5df91fad0984dd77466e275ad1bbd3f3c0a21d3287ac9d08473a9fd829"
  },
  "kernelspec": {
   "display_name": "Python 3.9.12 64-bit ('base': conda)",
   "name": "python3"
  },
  "language_info": {
   "codemirror_mode": {
    "name": "ipython",
    "version": 3
   },
   "file_extension": ".py",
   "mimetype": "text/x-python",
   "name": "python",
   "nbconvert_exporter": "python",
   "pygments_lexer": "ipython3",
   "version": "3.9.12"
  },
  "orig_nbformat": 4
 },
 "nbformat": 4,
 "nbformat_minor": 2
}
