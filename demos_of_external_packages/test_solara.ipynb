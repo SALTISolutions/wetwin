{
 "cells": [
  {
   "cell_type": "code",
   "execution_count": 6,
   "metadata": {},
   "outputs": [],
   "source": [
    "import ipyleaflet\n",
    "import solara\n",
    "import ipywidgets as widgets\n",
    "from matplotlib.figure import Figure"
   ]
  },
  {
   "cell_type": "code",
   "execution_count": 19,
   "metadata": {},
   "outputs": [
    {
     "data": {
      "application/vnd.jupyter.widget-view+json": {
       "model_id": "61651700575c40b7900cf2a9fdd65248",
       "version_major": 2,
       "version_minor": 0
      },
      "text/html": [
       "Cannot show widget. You probably want to rerun the code cell above (<i>Click in the code cell, and press Shift+Enter <kbd>⇧</kbd>+<kbd>↩</kbd></i>)."
      ],
      "text/plain": [
       "Cannot show ipywidgets in text"
      ]
     },
     "metadata": {},
     "output_type": "display_data"
    }
   ],
   "source": [
    "\n",
    "\n",
    "zoom = solara.reactive(2)\n",
    "center = solara.reactive((20, 0))\n",
    "locations = [\"Vlissingen\", \"Hoek van Holland\", \"Den Helder\"]\n",
    "location = solara.reactive(\"Vlissingen\")\n",
    "\n",
    "class Map(ipyleaflet.Map):\n",
    "    def __init__(self, **kwargs):\n",
    "        super().__init__(**kwargs)\n",
    "        self.layout.height = '600px'\n",
    "        # Add what you want below\n",
    "        label = widgets.Label('Clicked location')\n",
    "        output = widgets.Output()\n",
    "        widget = widgets.VBox([label, output])\n",
    "        control = ipyleaflet.WidgetControl(widget=widget, position='bottomright')\n",
    "        self.add_control(control)\n",
    "        \n",
    "        def handle_interaction(**kwargs):\n",
    "            latlon = kwargs.get(\"coordinates\")\n",
    "            if kwargs.get(\"type\") == \"click\":\n",
    "                with output:\n",
    "                    output.clear_output()\n",
    "                    print(latlon)\n",
    "\n",
    "        self.on_interaction(handle_interaction)\n",
    "\n",
    "def MyPlot():\n",
    "    fig = Figure()\n",
    "    ax = fig.subplots()\n",
    "    ax.plot([1, 2, 3], [1, 4, 9])\n",
    "    ax.set_title(location.value)\n",
    "    return fig\n",
    "\n",
    "@solara.component\n",
    "def Page():\n",
    "    \n",
    "\n",
    "    with solara.Column(style={\"min-width\": \"500px\"}):\n",
    "        solara.SliderInt(label=\"Zoom level\",value=zoom, min=1, max=20)\n",
    "        Map.element(\n",
    "            style={\"width\": \"50%\"},\n",
    "            zoom=zoom.value,\n",
    "            on_zoom=zoom.set,\n",
    "            center=center.value,\n",
    "            on_center=center.set,\n",
    "            scroll_wheel_zoom=True,\n",
    "        \n",
    "        )\n",
    "        solara.Select(label=\"Location\", value=location, values=locations)\n",
    "        solara.FigureMatplotlib(MyPlot())\n",
    "        solara.Text(f\"Zoom: {zoom.value}\")\n",
    "        solara.Text(f\"Center: {center.value}\")\n",
    "\n",
    "# The following line is required only when running the code in a Jupyter notebook:\n",
    "Page()"
   ]
  },
  {
   "cell_type": "code",
   "execution_count": 5,
   "metadata": {},
   "outputs": [
    {
     "data": {
      "text/plain": [
       "(11.0, [51.97049977739521, 4.144248962402345])"
      ]
     },
     "execution_count": 5,
     "metadata": {},
     "output_type": "execute_result"
    }
   ],
   "source": [
    "zoom.value, center.value"
   ]
  },
  {
   "cell_type": "code",
   "execution_count": null,
   "metadata": {},
   "outputs": [],
   "source": []
  }
 ],
 "metadata": {
  "kernelspec": {
   "display_name": "wetwin-venv",
   "language": "python",
   "name": "wetwin-venv"
  },
  "language_info": {
   "codemirror_mode": {
    "name": "ipython",
    "version": 3
   },
   "file_extension": ".py",
   "mimetype": "text/x-python",
   "name": "python",
   "nbconvert_exporter": "python",
   "pygments_lexer": "ipython3",
   "version": "3.10.11"
  },
  "orig_nbformat": 4
 },
 "nbformat": 4,
 "nbformat_minor": 2
}
